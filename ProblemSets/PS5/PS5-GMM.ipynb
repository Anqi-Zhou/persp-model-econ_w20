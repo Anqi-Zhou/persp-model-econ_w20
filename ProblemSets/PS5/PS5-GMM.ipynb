{
 "cells": [
  {
   "cell_type": "markdown",
   "metadata": {},
   "source": [
    "Problem 1"
   ]
  },
  {
   "cell_type": "code",
   "execution_count": 1,
   "metadata": {},
   "outputs": [],
   "source": [
    "import numpy as np\n",
    "import pandas as pd\n",
    "import matplotlib.pyplot as plt\n",
    "import scipy.optimize as opt"
   ]
  },
  {
   "cell_type": "code",
   "execution_count": 2,
   "metadata": {},
   "outputs": [],
   "source": [
    "income = np.loadtxt(\"incomes.txt\")"
   ]
  },
  {
   "cell_type": "code",
   "execution_count": 3,
   "metadata": {},
   "outputs": [
    {
     "data": {
      "image/png": "[encoded data removed]",
      "text/plain": [
       "<Figure size 432x288 with 1 Axes>"
      ]
     },
     "metadata": {
      "needs_background": "light"
     },
     "output_type": "display_data"
    }
   ],
   "source": [
    "#a\n",
    "num_bins = 30\n",
    "plt.hist(income, num_bins, edgecolor = 'k', density = True)\n",
    "plt.title('Annual Incomes of MACSS Students (2018-2020)', fontsize = 14)\n",
    "plt.xlabel('Annual Income')\n",
    "plt.ylabel('Percents of Income')\n",
    "plt.xlim([0, 150000])\n",
    "plt.show()"
   ]
  },
  {
   "cell_type": "code",
   "execution_count": 4,
   "metadata": {},
   "outputs": [],
   "source": [
    "#b\n",
    "def trunc_lognorm_pdf(xvals, mu, sigma, cut_lb, cut_ub):\n",
    "    if cut_ub == 'None' and cut_lb == 'None':\n",
    "        prob_notcut = 1.0\n",
    "    elif cut_ub == 'None' and cut_lb != 'None':\n",
    "        prob_notcut = 1.0 - sts.norm.cdf(cut_lb, loc=mu, scale=sigma)\n",
    "    elif cut_ub != 'None' and cut_lb == 'None':\n",
    "        prob_notcut = sts.norm.cdf(cut_ub, loc=mu, scale=sigma)\n",
    "    elif cut_ub != 'None' and cut_lb != 'None':\n",
    "        prob_notcut = (sts.norm.cdf(cut_ub, loc=mu, scale=sigma) -\n",
    "                       sts.norm.cdf(cut_lb, loc=mu, scale=sigma))\n",
    "            \n",
    "    pdf_vals    = (( 1 / (xvals * sigma * np.sqrt(2 * np.pi)) *\n",
    "                    np.exp(-(np.log(xvals) - mu) ** 2 / (2 * sigma ** 2))) /\n",
    "                    prob_notcut)\n",
    "    \n",
    "    return pdf_vals"
   ]
  },
  {
   "cell_type": "code",
   "execution_count": 5,
   "metadata": {},
   "outputs": [],
   "source": [
    "import scipy.integrate as intgr\n",
    "import scipy.optimize as opt\n",
    "import scipy.stats as sts\n",
    "\n",
    "def data_moments(xvals):\n",
    "    mean_data = xvals.mean()\n",
    "    var_data = xvals.var()\n",
    "    return mean_data, var_data\n",
    "\n",
    "def model_moments(mu, sigma, cut_lb, cut_ub):\n",
    "    xfx = lambda x: x * trunc_lognorm_pdf(x, mu, sigma, cut_lb, cut_ub)\n",
    "    (mean_model, m_m_err) = intgr.quad(xfx, cut_lb, cut_ub)\n",
    "    x2fx = lambda x: ((x - mean_model) ** 2) * trunc_lognorm_pdf(x, mu, sigma, cut_lb, cut_ub) \n",
    "    (var_model, v_m_err) = intgr.quad(x2fx, cut_lb, cut_ub)\n",
    "    return mean_model, var_model\n",
    "\n",
    "def err_vec(xvals, mu, sigma, cut_lb, cut_ub, simple):\n",
    "    mean_data, var_data = data_moments(xvals)\n",
    "    moms_data = np.array([[mean_data], [var_data]])\n",
    "    mean_model, var_model = model_moments(mu, sigma, cut_lb, cut_ub)\n",
    "    moms_model = np.array([[mean_model], [var_model]])\n",
    "    if simple:\n",
    "        err_vec = moms_model - moms_data\n",
    "    else:\n",
    "        err_vec = (moms_model - moms_data) / moms_data\n",
    "    return err_vec\n",
    "\n",
    "\n",
    "def criterion(params, *args):\n",
    "    mu, sigma = params\n",
    "    xvals, cut_lb, cut_ub, W = args\n",
    "    err = err_vec(xvals, mu, sigma, cut_lb, cut_ub, simple=False)\n",
    "    crit_val = err.T @ W @ err    \n",
    "    return crit_val"
   ]
  },
  {
   "cell_type": "code",
   "execution_count": 6,
   "metadata": {},
   "outputs": [
    {
     "data": {
      "text/plain": [
       "11.289781913656018"
      ]
     },
     "execution_count": 6,
     "metadata": {},
     "output_type": "execute_result"
    }
   ],
   "source": [
    "np.log(80000)"
   ]
  },
  {
   "cell_type": "code",
   "execution_count": 12,
   "metadata": {},
   "outputs": [
    {
     "data": {
      "text/plain": [
       "0.21741287660522524"
      ]
     },
     "execution_count": 12,
     "metadata": {},
     "output_type": "execute_result"
    }
   ],
   "source": [
    "np.log(87000) - np.log(70000)"
   ]
  },
  {
   "cell_type": "code",
   "execution_count": 14,
   "metadata": {},
   "outputs": [
    {
     "name": "stdout",
     "output_type": "stream",
     "text": [
      "mu_GMM1 = 11.336910385143259  sig_GMM1 = 0.21302707136654847\n",
      "The value of criterion function is 1.4533607335636674e-15.\n",
      "Mean of Data = 85276.82360625811 , Standard Deviation of Data = 323731572.2295289\n",
      "Mean of model = 85276.82671665077 , Standard Deviation = 323731575.819931\n",
      "Error vector = [3.64740680e-08 1.10906763e-08]\n"
     ]
    }
   ],
   "source": [
    "mu_init = 11 #init is a problem, according to the above rough estimation\n",
    "sig_init = 0.2\n",
    "params_init = np.array([mu_init, sig_init])\n",
    "W_hat = np.eye(2)\n",
    "\n",
    "gmm_args = (income, 0.0, 150000.0, W_hat)\n",
    "results = opt.minimize(criterion, params_init, args=(gmm_args),\n",
    "                       tol=1e-14, method='L-BFGS-B',\n",
    "                       bounds=((None, None), (1e-10, None)))\n",
    "mu_GMM1, sig_GMM1 = results.x\n",
    "\n",
    "print('mu_GMM1 =', mu_GMM1, ' sig_GMM1 =', sig_GMM1)\n",
    "print('The value of criterion function is {}.'.format(results.fun[0][0]))\n",
    "\n",
    "mean_data, std_data = data_moments(income)\n",
    "mean_model, std_model = model_moments(mu_GMM1, sig_GMM1, 0.0, 150000.0)\n",
    "error = err_vec(income, mu_GMM1, sig_GMM1, 0.0, 150000.0, False).reshape(2, )\n",
    "print('Mean of Data =', mean_data, ', Standard Deviation of Data =', std_data)\n",
    "print('Mean of model =', mean_model, ', Standard Deviation =', std_model)\n",
    "print('Error vector =', error)"
   ]
  },
  {
   "cell_type": "code",
   "execution_count": 15,
   "metadata": {},
   "outputs": [
    {
     "name": "stderr",
     "output_type": "stream",
     "text": [
      "/Users/zhouanqi/opt/anaconda3/lib/python3.7/site-packages/ipykernel_launcher.py:13: RuntimeWarning: divide by zero encountered in true_divide\n",
      "  del sys.path[0]\n",
      "/Users/zhouanqi/opt/anaconda3/lib/python3.7/site-packages/ipykernel_launcher.py:14: RuntimeWarning: divide by zero encountered in log\n",
      "  \n",
      "/Users/zhouanqi/opt/anaconda3/lib/python3.7/site-packages/ipykernel_launcher.py:14: RuntimeWarning: invalid value encountered in multiply\n",
      "  \n"
     ]
    },
    {
     "data": {
      "image/png": "[encoded data removed]",
      "text/plain": [
       "<Figure size 432x288 with 1 Axes>"
      ]
     },
     "metadata": {
      "needs_background": "light"
     },
     "output_type": "display_data"
    }
   ],
   "source": [
    "num_bins = 30\n",
    "plt.hist(income, num_bins, edgecolor = 'k', density = True)\n",
    "plt.title('Annual Incomes of MACSS Students (2018-2020)', fontsize = 20)\n",
    "plt.xlabel('Annual Income')\n",
    "plt.ylabel('Percents of Income')\n",
    "plt.xlim([0, 150000])\n",
    "\n",
    "Nvec = np.linspace(0, 150000, 3000)\n",
    "plt.plot(Nvec, trunc_lognorm_pdf(Nvec, mu_GMM1, sig_GMM1, 0.0, 150000),\n",
    "         linewidth=2, color='r', label='$\\mu_{GMM1}$,$\\sigma_{GMM1}$')\n",
    "plt.legend(loc='upper left')\n",
    "plt.show()"
   ]
  },
  {
   "cell_type": "code",
   "execution_count": 16,
   "metadata": {},
   "outputs": [],
   "source": [
    "#c\n",
    "def get_Err_mat2(pts, mu, sigma, cut_lb, cut_ub, simple=False):\n",
    "    R = 2\n",
    "    N = len(pts)\n",
    "    Err_mat = np.zeros((R, N))\n",
    "    mean_model, var_model = model_moments(mu, sigma, cut_lb, cut_ub)\n",
    "    if simple:\n",
    "        Err_mat[0, :] = pts - mean_model\n",
    "        Err_mat[1, :] = ((mean_data - pts) ** 2) - var_model\n",
    "    else:\n",
    "        Err_mat[0, :] = (pts - mean_model) / mean_model\n",
    "        Err_mat[1, :] = (((mean_data - pts) ** 2) - var_model) / var_model\n",
    "    \n",
    "    return Err_mat\n",
    "Err_mat = get_Err_mat2(income, mu_GMM1, sig_GMM1, 0.0, 150000, False)\n",
    "#Err_mat"
   ]
  },
  {
   "cell_type": "code",
   "execution_count": 17,
   "metadata": {},
   "outputs": [
    {
     "name": "stdout",
     "output_type": "stream",
     "text": [
      "[[0.0445167  0.09358616]\n",
      " [0.09358616 1.94756657]]\n",
      "[[24.98774342 -1.2007327 ]\n",
      " [-1.2007327   0.57115992]]\n"
     ]
    }
   ],
   "source": [
    "VCV2 = (1 / income.shape[0]) * (Err_mat @ Err_mat.T) #1/N * E(x|mu, sigma) * E(x|mu, sigma)T\n",
    "print(VCV2) #omega\n",
    "\n",
    "import numpy.linalg as lin\n",
    "W_hat2 = lin.inv(VCV2) #inverse of omega\n",
    "print(W_hat2)"
   ]
  },
  {
   "cell_type": "code",
   "execution_count": 19,
   "metadata": {},
   "outputs": [],
   "source": [
    "mu_init = mu_GMM1\n",
    "sig_init = sig_GMM1\n",
    "params_init = np.array([mu_init, sig_init])\n",
    "\n",
    "gmm_args = (income, 0.0, 150000.0, W_hat2)\n",
    "results_2 = opt.minimize(criterion, params_init, args=(gmm_args),\n",
    "                       tol=1e-14, method='L-BFGS-B',\n",
    "                       bounds=((1e-10, None), (1e-10, None)))\n",
    "mu_GMM2, sig_GMM2 = results_2.x"
   ]
  },
  {
   "cell_type": "code",
   "execution_count": 20,
   "metadata": {},
   "outputs": [
    {
     "name": "stdout",
     "output_type": "stream",
     "text": [
      "mu_GMM2 = 11.336910342951796  sig_GMM2 = 0.21302707728237674\n",
      "The value of criterion function is 1.5524666355643554e-16.\n",
      "Mean of Data = 85276.82360625811 , Standard Deviation of Data = 323731572.2295289\n",
      "Mean of model = 85276.82339397445 , Standard Deviation = 323731572.2511242\n",
      "Error vector = [-2.48934764e-09  6.67074240e-11]\n"
     ]
    }
   ],
   "source": [
    "print('mu_GMM2 =', mu_GMM2, ' sig_GMM2 =', sig_GMM2)\n",
    "print('The value of criterion function is {}.'.format(results_2.fun[0][0]))\n",
    "\n",
    "mean_data, std_data = data_moments(income)\n",
    "mean_model, std_model = model_moments(mu_GMM2, sig_GMM2, 0.0, 150000.0)\n",
    "error = err_vec(income, mu_GMM2, sig_GMM2, 0.0, 150000.0, False).reshape(2, )\n",
    "print('Mean of Data =', mean_data, ', Standard Deviation of Data =', std_data)\n",
    "print('Mean of model =', mean_model, ', Standard Deviation =', std_model)\n",
    "print('Error vector =', error)"
   ]
  },
  {
   "cell_type": "code",
   "execution_count": 21,
   "metadata": {},
   "outputs": [
    {
     "name": "stderr",
     "output_type": "stream",
     "text": [
      "/Users/zhouanqi/opt/anaconda3/lib/python3.7/site-packages/ipykernel_launcher.py:13: RuntimeWarning: divide by zero encountered in true_divide\n",
      "  del sys.path[0]\n",
      "/Users/zhouanqi/opt/anaconda3/lib/python3.7/site-packages/ipykernel_launcher.py:14: RuntimeWarning: divide by zero encountered in log\n",
      "  \n",
      "/Users/zhouanqi/opt/anaconda3/lib/python3.7/site-packages/ipykernel_launcher.py:14: RuntimeWarning: invalid value encountered in multiply\n",
      "  \n"
     ]
    },
    {
     "data": {
      "image/png": "[encoded data removed]",
      "text/plain": [
       "<Figure size 432x288 with 1 Axes>"
      ]
     },
     "metadata": {
      "needs_background": "light"
     },
     "output_type": "display_data"
    }
   ],
   "source": [
    "num_bins = 30\n",
    "plt.hist(income, num_bins, edgecolor = 'k', density = True)\n",
    "plt.title('Annual Incomes of MACSS Students (2018-2020)', fontsize = 20)\n",
    "plt.xlabel('Annual Income')\n",
    "plt.ylabel('Percents of Income')\n",
    "plt.xlim([0, 150000])\n",
    "\n",
    "Nvec = np.linspace(0, 150000, 3000)\n",
    "plt.plot(Nvec, trunc_lognorm_pdf(Nvec, mu_GMM1, sig_GMM1, 0.0, 150000),\n",
    "         linewidth=2, color='r', label='$\\mu_{GMM1}$,$\\sigma_{GMM1}$')\n",
    "plt.legend(loc='upper left')\n",
    "\n",
    "plt.plot(Nvec, trunc_lognorm_pdf(Nvec, mu_GMM2, sig_GMM2, 0.0, 150000),\n",
    "         linewidth=2, color='g', label='$\\mu_{GMM2}$,$\\sigma_{GMM2}$')\n",
    "plt.legend(loc='upper left')\n",
    "plt.show()"
   ]
  },
  {
   "cell_type": "code",
   "execution_count": 22,
   "metadata": {},
   "outputs": [],
   "source": [
    "#d\n",
    "def data_moments3(xvals):\n",
    "    bpct_1_dat = xvals[xvals < 75000].shape[0] / xvals.shape[0]\n",
    "    bpct_2_dat = (xvals[(xvals >=75000) & (xvals < 100000)].shape[0] /\n",
    "                  xvals.shape[0])\n",
    "    bpct_3_dat = xvals[xvals >= 100000].shape[0] / xvals.shape[0]\n",
    "\n",
    "    return bpct_1_dat, bpct_2_dat, bpct_3_dat\n",
    "\n",
    "def model_moments3(mu, sigma, cut_lb, cut_ub):\n",
    "    xfx = lambda x: trunc_lognorm_pdf(x, mu, sigma, cut_lb, cut_ub)\n",
    "    (bpct_1_mod, bp_1_err) = intgr.quad(xfx, 0.0, 75000)\n",
    "    (bpct_2_mod, bp_2_err) = intgr.quad(xfx, 75000, 100000)\n",
    "    (bpct_3_mod, bp_3_err) = intgr.quad(xfx, 100000, 150000)\n",
    "    \n",
    "    return bpct_1_mod, bpct_2_mod, bpct_3_mod\n",
    "\n",
    "def err_vec3(xvals, mu, sigma, cut_lb, cut_ub, simple):\n",
    "    bpct_1_dat, bpct_2_dat, bpct_3_dat = \\\n",
    "        data_moments3(xvals)\n",
    "    moms_data = np.array([[bpct_1_dat], [bpct_2_dat], [bpct_3_dat]])\n",
    "    bpct_1_mod, bpct_2_mod, bpct_3_mod = \\\n",
    "        model_moments3(mu, sigma, cut_lb, cut_ub)\n",
    "    moms_model = np.array([[bpct_1_mod], [bpct_2_mod], [bpct_3_mod]])\n",
    "    if simple:\n",
    "        err_vec = moms_model - moms_data\n",
    "    else:\n",
    "        err_vec = (moms_model - moms_data) / moms_data\n",
    "    \n",
    "    return err_vec"
   ]
  },
  {
   "cell_type": "code",
   "execution_count": 23,
   "metadata": {},
   "outputs": [
    {
     "name": "stdout",
     "output_type": "stream",
     "text": [
      "mu_GMM1_3= 11.336726659453136  sig_GMM1_3= 0.21174632289626155\n",
      "The value of criterion function is 2.3818173783923146e-05\n"
     ]
    }
   ],
   "source": [
    "def criterion3(params, *args):\n",
    "    mu, sigma = params\n",
    "    xvals, cut_lb, cut_ub, W = args\n",
    "    err = err_vec3(xvals, mu, sigma, cut_lb, cut_ub, simple=False)\n",
    "    crit_val = err.T @ W @ err \n",
    "    \n",
    "    return crit_val\n",
    "\n",
    "mu_init = 11\n",
    "sig_init = 0.2\n",
    "params_init = np.array([mu_init, sig_init])\n",
    "W_hat1_3 = np.eye(3)\n",
    "gmm_args = (income, 0.0, 150000.0, W_hat1_3)\n",
    "results_3 = opt.minimize(criterion3, params_init, args=(gmm_args),\n",
    "                       method='L-BFGS-B', bounds=((1e-10, None), (1e-10, None)))\n",
    "mu_GMM1_3, sig_GMM1_3 = results_3.x\n",
    "print('mu_GMM1_3=', mu_GMM1_3, ' sig_GMM1_3=', sig_GMM1_3)\n",
    "print(\"The value of criterion function is\", results_3.fun[0][0])"
   ]
  },
  {
   "cell_type": "code",
   "execution_count": 24,
   "metadata": {},
   "outputs": [
    {
     "name": "stderr",
     "output_type": "stream",
     "text": [
      "/Users/zhouanqi/opt/anaconda3/lib/python3.7/site-packages/ipykernel_launcher.py:13: RuntimeWarning: divide by zero encountered in true_divide\n",
      "  del sys.path[0]\n",
      "/Users/zhouanqi/opt/anaconda3/lib/python3.7/site-packages/ipykernel_launcher.py:14: RuntimeWarning: divide by zero encountered in log\n",
      "  \n",
      "/Users/zhouanqi/opt/anaconda3/lib/python3.7/site-packages/ipykernel_launcher.py:14: RuntimeWarning: invalid value encountered in multiply\n",
      "  \n"
     ]
    },
    {
     "data": {
      "image/png": "[encoded data removed]",
      "text/plain": [
       "<Figure size 432x288 with 1 Axes>"
      ]
     },
     "metadata": {
      "needs_background": "light"
     },
     "output_type": "display_data"
    }
   ],
   "source": [
    "num_bins = 30\n",
    "plt.hist(income, num_bins, edgecolor = 'k', density = True)\n",
    "plt.title('Annual Incomes of MACSS Students (2018-2020)', fontsize = 20)\n",
    "plt.xlabel('Annual Income')\n",
    "plt.ylabel('Percents of Income')\n",
    "plt.xlim([0, 150000])\n",
    "\n",
    "Nvec = np.linspace(0, 150000, 3000)\n",
    "plt.plot(Nvec, trunc_lognorm_pdf(Nvec, mu_GMM1_3, sig_GMM1_3, 0.0, 150000),\n",
    "         linewidth=2, color='b', label='$\\mu_{GMM1_3}$,$\\sigma_{GMM1_3}$')\n",
    "plt.legend(loc='upper left')\n",
    "plt.show()"
   ]
  },
  {
   "cell_type": "code",
   "execution_count": 25,
   "metadata": {},
   "outputs": [
    {
     "name": "stdout",
     "output_type": "stream",
     "text": [
      "Percent(<75000) in data: 30.00%, Percent(75000-100000) in data: 50.00%, Percent(>100000) in data: 20.00%\n",
      "Percent(<75000) in model: 29.93%, Percent(75000-100000) in model: 49.81%, Percent(>100000) in model: 19.97%\n",
      "\n",
      "The difference between data and model moments are [-0.00072765 -0.00194235 -0.0003373 ].\n"
     ]
    }
   ],
   "source": [
    "bpct_1_model1_3, bpct_2_model1_3, bpct_3_model1_3 = model_moments3(mu_GMM1_3, sig_GMM1_3, 0.0, 150000.0)\n",
    "bpct_1_dat1_3, bpct_2_dat1_3, bpct_3_dat1_3 = data_moments3(income)\n",
    "err1_3 = err_vec3(income, mu_GMM1_3, sig_GMM1_3, 0.0, 150000, simple=True).reshape(3, )\n",
    "print('Percent(<75000) in data: {:.2f}%, Percent(75000-100000) in data: {:.2f}%, Percent(>100000) in data: {:.2f}%'\n",
    "      .format(100 * bpct_1_dat1_3, 100 * bpct_2_dat1_3, 100 * bpct_3_dat1_3))\n",
    "print('Percent(<75000) in model: {:.2f}%, Percent(75000-100000) in model: {:.2f}%, Percent(>100000) in model: {:.2f}%\\n'\n",
    "      .format(100 * bpct_1_model1_3, 100 * bpct_2_model1_3, 100 * bpct_3_model1_3))\n",
    "print(f'The difference between data and model moments are {err1_3}.')"
   ]
  },
  {
   "cell_type": "code",
   "execution_count": 26,
   "metadata": {},
   "outputs": [],
   "source": [
    "#e\n",
    "def get_Err_mat3(pts, mu, sigma, cut_lb, cut_ub, simple=False):\n",
    "    R = 3\n",
    "    N = len(pts)\n",
    "    Err_mat = np.zeros((R, N))\n",
    "    pct_1_mod, pct_2_mod, pct_3_mod = \\\n",
    "        model_moments3(mu, sigma, cut_lb, cut_ub)\n",
    "    if simple:\n",
    "        pts_in_grp1 = pts < 75000\n",
    "        Err_mat[0, :] = pts_in_grp1 - pct_1_mod\n",
    "        pts_in_grp2 = (pts >= 75000) & (pts < 100000)\n",
    "        Err_mat[1, :] = pts_in_grp2 - pct_2_mod\n",
    "        pts_in_grp3 = pts >= 100000\n",
    "        Err_mat[2, :] = pts_in_grp3 - pct_3_mod\n",
    "    else:\n",
    "        pts_in_grp1 = pts < 75000\n",
    "        Err_mat[0, :] = (pts_in_grp1 - pct_1_mod) / pct_1_mod\n",
    "        pts_in_grp2 = (pts >= 75000) & (pts < 100000)\n",
    "        Err_mat[1, :] = (pts_in_grp2 - pct_2_mod) / pct_2_mod\n",
    "        pts_in_grp3 = pts >= 100000\n",
    "        Err_mat[2, :] = (pts_in_grp3 - pct_3_mod) / pct_3_mod\n",
    "    return Err_mat"
   ]
  },
  {
   "cell_type": "code",
   "execution_count": 28,
   "metadata": {},
   "outputs": [
    {
     "name": "stdout",
     "output_type": "stream",
     "text": [
      "mu_GMM2_3= 11.336511327986104  sig_GMM2_3= 0.21392038241220113\n",
      "The value of criterion function is 0.0006825293968706411\n"
     ]
    }
   ],
   "source": [
    "Err_mat3 = get_Err_mat3(income, mu_GMM1, sig_GMM1, 0.0, 150000.0, True)\n",
    "VCV2_3 = (1 / income.shape[0]) * (Err_mat3 @ Err_mat3.T)\n",
    "W_hat2_3 = lin.pinv(VCV2_3)\n",
    "\n",
    "mu_init = mu_GMM1_3\n",
    "sig_init = sig_GMM1_3\n",
    "params_init = np.array([mu_init, sig_init])\n",
    "gmm_args = (income, 0.0, 150000.0, W_hat2_3)\n",
    "results2_3 = opt.minimize(criterion3, params_init, args=(gmm_args),\n",
    "                          method='L-BFGS-B', bounds=((1e-10, None), (1e-10, None)))\n",
    "mu_GMM2_3, sig_GMM2_3 = results2_3.x\n",
    "print('mu_GMM2_3=', mu_GMM2_3, ' sig_GMM2_3=', sig_GMM2_3)\n",
    "print(\"The value of criterion function is\", results2_3.fun[0][0])"
   ]
  },
  {
   "cell_type": "code",
   "execution_count": 29,
   "metadata": {},
   "outputs": [
    {
     "name": "stderr",
     "output_type": "stream",
     "text": [
      "/Users/zhouanqi/opt/anaconda3/lib/python3.7/site-packages/ipykernel_launcher.py:13: RuntimeWarning: divide by zero encountered in true_divide\n",
      "  del sys.path[0]\n",
      "/Users/zhouanqi/opt/anaconda3/lib/python3.7/site-packages/ipykernel_launcher.py:14: RuntimeWarning: divide by zero encountered in log\n",
      "  \n",
      "/Users/zhouanqi/opt/anaconda3/lib/python3.7/site-packages/ipykernel_launcher.py:14: RuntimeWarning: invalid value encountered in multiply\n",
      "  \n"
     ]
    },
    {
     "data": {
      "image/png": "[encoded data removed]",
      "text/plain": [
       "<Figure size 432x288 with 1 Axes>"
      ]
     },
     "metadata": {
      "needs_background": "light"
     },
     "output_type": "display_data"
    }
   ],
   "source": [
    "num_bins = 30\n",
    "plt.hist(income, num_bins, edgecolor = 'k', density = True)\n",
    "plt.title('Annual Incomes of MACSS Students (2018-2020)', fontsize = 20)\n",
    "plt.xlabel('Annual Income')\n",
    "plt.ylabel('Percents of Income')\n",
    "plt.xlim([0, 150000])\n",
    "\n",
    "Nvec = np.linspace(0, 150000, 3000)\n",
    "plt.plot(Nvec, trunc_lognorm_pdf(Nvec, mu_GMM1_3, sig_GMM1_3, 0.0, 150000),\n",
    "         linewidth=2, color='b', label='$\\mu_{GMM1_3}$,$\\sigma_{GMM1_3}$')\n",
    "plt.legend(loc='upper left')\n",
    "\n",
    "Nvec = np.linspace(0, 150000, 3000)\n",
    "plt.plot(Nvec, trunc_lognorm_pdf(Nvec, mu_GMM2_3, sig_GMM2_3, 0.0, 150000),\n",
    "         linewidth=2, color='y', label='$\\mu_{GMM2_3}$,$\\sigma_{GMM2_3}$')\n",
    "plt.legend(loc='upper left')\n",
    "\n",
    "plt.show()"
   ]
  },
  {
   "cell_type": "code",
   "execution_count": 30,
   "metadata": {},
   "outputs": [
    {
     "name": "stdout",
     "output_type": "stream",
     "text": [
      "Percent(<75000) in data: 30.00%, Percent(75000-100000) in data: 50.000000%, Percent(>100000) in data: 20.000000%\n",
      "Percent(<75000) in model: 30.15%, Percent(75000-100000) in model: 49.37%, Percent(>100000) in model: 20.15%\n",
      "\n",
      "The difference between data and model moments are [ 0.001484   -0.00626293  0.00151557].\n"
     ]
    }
   ],
   "source": [
    "bpct_1_model2_3, bpct_2_model2_3, bpct_3_model2_3 = model_moments3(mu_GMM2_3, sig_GMM2_3, 0.0, 150000.0)\n",
    "bpct_1_dat2_3, bpct_2_dat2_3, bpct_3_dat2_3 = data_moments3(income)\n",
    "err2_3 = err_vec3(income, mu_GMM2_3, sig_GMM2_3, 0.0, 150000, simple=True).reshape(3, )\n",
    "print('Percent(<75000) in data: {:.2f}%, Percent(75000-100000) in data: {:2f}%, Percent(>100000) in data: {:2f}%'\n",
    "      .format(100 * bpct_1_dat2_3, 100 * bpct_2_dat2_3, 100 * bpct_3_dat2_3))\n",
    "print('Percent(<75000) in model: {:.2f}%, Percent(75000-100000) in model: {:.2f}%, Percent(>100000) in model: {:.2f}%\\n'\n",
    "      .format(100 * bpct_1_model2_3, 100 * bpct_2_model2_3, 100 * bpct_3_model2_3))\n",
    "print(f'The difference between data and model moments are {err2_3}.')"
   ]
  },
  {
   "cell_type": "code",
   "execution_count": 31,
   "metadata": {},
   "outputs": [
    {
     "data": {
      "text/plain": [
       "[1.4533607335636674e-15,\n",
       " 1.5524666355643554e-16,\n",
       " 2.3818173783923146e-05,\n",
       " 0.0006825293968706411]"
      ]
     },
     "execution_count": 31,
     "metadata": {},
     "output_type": "execute_result"
    }
   ],
   "source": [
    "#f\n",
    "GMM_value=[results.fun[0][0], results_2.fun[0][0], results_3.fun[0][0],results2_3.fun[0][0]]\n",
    "GMM_value"
   ]
  },
  {
   "cell_type": "markdown",
   "metadata": {},
   "source": [
    "By comparing the value of GMM criterion function for each method, we can conclude that the estimation result from part (c) fits the data most, which is using mean and std as two moments with two-step optimal weighting matrix. It has the least GMM criterion function value."
   ]
  },
  {
   "cell_type": "markdown",
   "metadata": {},
   "source": [
    "Problem 2:"
   ]
  },
  {
   "cell_type": "code",
   "execution_count": 34,
   "metadata": {},
   "outputs": [
    {
     "name": "stdout",
     "output_type": "stream",
     "text": [
      "beta0 = 0.2516448636180223\n",
      "beta1 = 0.012933469667256711\n",
      "beta2 = 0.40050098511048643\n",
      "beta3 = -0.009991708483433188\n",
      "The value of criterion function is 0.00182128980560192\n"
     ]
    }
   ],
   "source": [
    "#a\n",
    "import pandas as pd\n",
    "data = pd.read_csv(\"sick.txt\").astype('float64')\n",
    "N = data.shape[0]\n",
    "\n",
    "def err_vec(data, beta0, beta1, beta2, beta3):\n",
    "    yhat = beta0 + beta1 * data['age']+ beta2 * data['children'] + beta3 * data['avgtemp_winter']\n",
    "    y = data['sick']\n",
    "    err_vec = yhat - y\n",
    "    err_vec = np.array(err_vec)\n",
    "    \n",
    "    return err_vec\n",
    "\n",
    "def criterion(params, *args):\n",
    "    beta0, beta1, beta2, beta3 = params\n",
    "    data, W = args\n",
    "    err = err_vec(data, beta0, beta1, beta2, beta3)\n",
    "    crit_val = err.T @ W @ err\n",
    "    \n",
    "    return crit_val\n",
    "\n",
    "beta0, beta1, beta2, beta3 = 1, 0, 0, 0\n",
    "params_init = np.array([beta0, beta1, beta2, beta3])\n",
    "W_hat = np.eye(N)\n",
    "gmm_args = (data, W_hat)\n",
    "results = opt.minimize(criterion, params_init, args = (gmm_args), tol = 1e-14, method = 'L-BFGS-B')\n",
    "beta0, beta1, beta2, beta3 = results.x\n",
    "\n",
    "print(\"beta0 =\", beta0)\n",
    "print(\"beta1 =\", beta1)\n",
    "print(\"beta2 =\", beta2)\n",
    "print(\"beta3 =\", beta3)\n",
    "print('The value of criterion function is', results.fun)"
   ]
  },
  {
   "cell_type": "code",
   "execution_count": null,
   "metadata": {},
   "outputs": [],
   "source": []
  }
 ],
 "metadata": {
  "kernelspec": {
   "display_name": "Python 3",
   "language": "python",
   "name": "python3"
  },
  "language_info": {
   "codemirror_mode": {
    "name": "ipython",
    "version": 3
   },
   "file_extension": ".py",
   "mimetype": "text/x-python",
   "name": "python",
   "nbconvert_exporter": "python",
   "pygments_lexer": "ipython3",
   "version": "3.7.4"
  }
 },
 "nbformat": 4,
 "nbformat_minor": 2
}
